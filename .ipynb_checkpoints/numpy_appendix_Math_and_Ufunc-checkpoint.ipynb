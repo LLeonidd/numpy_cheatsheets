{
 "cells": [
  {
   "cell_type": "markdown",
   "metadata": {},
   "source": [
    "# Math and Universal functions"
   ]
  },
  {
   "cell_type": "code",
   "execution_count": 3,
   "metadata": {},
   "outputs": [],
   "source": [
    "import numpy as np\n",
    "ary = np.array([[1,2,3,],\n",
    "                [4,5,6,]])"
   ]
  },
  {
   "cell_type": "markdown",
   "metadata": {},
   "source": [
    "### Binary operations (+,*,-./,** ..) for each of the elemnt in the array"
   ]
  },
  {
   "cell_type": "code",
   "execution_count": 66,
   "metadata": {},
   "outputs": [
    {
     "data": {
      "text/plain": [
       "(array([[2, 3, 4],\n",
       "        [5, 6, 7]]),\n",
       " array([[2, 3, 4],\n",
       "        [5, 6, 7]]),\n",
       " array([[ 2,  4,  6],\n",
       "        [ 8, 10, 12]]),\n",
       " array([[ 1,  4,  9],\n",
       "        [16, 25, 36]]))"
      ]
     },
     "execution_count": 66,
     "metadata": {},
     "output_type": "execute_result"
    }
   ],
   "source": [
    "(\n",
    "ary+1,\n",
    "np.add(ary, 1),\n",
    "ary*2,\n",
    "ary**2,\n",
    ")\n"
   ]
  },
  {
   "cell_type": "markdown",
   "metadata": {},
   "source": [
    "### Sum of elements in the axes (function reduce)"
   ]
  },
  {
   "cell_type": "code",
   "execution_count": 12,
   "metadata": {},
   "outputs": [
    {
     "data": {
      "text/plain": [
       "array([5, 7, 9])"
      ]
     },
     "execution_count": 12,
     "metadata": {},
     "output_type": "execute_result"
    }
   ],
   "source": [
    "# ary = np.array([[1,2,3,],\n",
    "#                 [4,5,6,]])\n",
    "\n",
    "np.add.reduce(ary, ) # default axis = 0 - sum of elements in columns"
   ]
  },
  {
   "cell_type": "code",
   "execution_count": 13,
   "metadata": {},
   "outputs": [
    {
     "data": {
      "text/plain": [
       "array([ 6, 15])"
      ]
     },
     "execution_count": 13,
     "metadata": {},
     "output_type": "execute_result"
    }
   ],
   "source": [
    "np.add.reduce(ary, axis=1) # sum of elements in the rows"
   ]
  },
  {
   "cell_type": "markdown",
   "metadata": {},
   "source": [
    "### Sum function = add.reduce"
   ]
  },
  {
   "cell_type": "code",
   "execution_count": 30,
   "metadata": {},
   "outputs": [
    {
     "data": {
      "text/plain": [
       "(21, array([5, 7, 9]), array([5, 7, 9]), array([ 6, 15]))"
      ]
     },
     "execution_count": 30,
     "metadata": {},
     "output_type": "execute_result"
    }
   ],
   "source": [
    "(\n",
    "ary.sum(), # sum of all elements in the array\n",
    "ary.sum(axis=0), # sum of elements in the columns\n",
    "# or\n",
    "np.sum(ary, axis=0),\n",
    "ary.sum(axis=1), # sum of elements in the rows\n",
    ")"
   ]
  },
  {
   "cell_type": "markdown",
   "metadata": {},
   "source": [
    "## Other ufunc"
   ]
  },
  {
   "cell_type": "code",
   "execution_count": 64,
   "metadata": {},
   "outputs": [
    {
     "data": {
      "text/plain": [
       "(array([2.5, 3.5, 4.5]),\n",
       " array([1.5, 1.5, 1.5]),\n",
       " array([2.25, 2.25, 2.25]),\n",
       " array([[1, 2, 3],\n",
       "        [4, 5, 6]]),\n",
       " array([[0, 0, 0],\n",
       "        [1, 1, 1]]),\n",
       " 1,\n",
       " 6,\n",
       " 0,\n",
       " 5,\n",
       " False)"
      ]
     },
     "execution_count": 64,
     "metadata": {},
     "output_type": "execute_result"
    }
   ],
   "source": [
    "#ary = np.array([[1,2,3,],\n",
    "#                 [4,5,6,]])\n",
    "\n",
    "(\n",
    "ary.mean(axis=0),\n",
    "ary.std(axis=0), # standart deviation\n",
    "ary.var(axis=0), # computes variance\n",
    "np.sort(ary), # sort an array\n",
    "np.argsort(ary, axis=0), # returns indices that would sort an array\n",
    "np.min(ary),\n",
    "np.max(ary),\n",
    "np.argmin(ary), # returns the index of the minimum value\n",
    "np.argmax(ary),\n",
    "np.array_equal(np.array([1,2,3]), np.array([1,2,3])), # checks  if  two  arrays  have  the  same  shape  and  ele-ments\n",
    "\n",
    ")"
   ]
  },
  {
   "cell_type": "markdown",
   "metadata": {},
   "source": [
    "## Sum arrays"
   ]
  },
  {
   "cell_type": "code",
   "execution_count": 70,
   "metadata": {
    "scrolled": true
   },
   "outputs": [
    {
     "data": {
      "text/plain": [
       "array([[2, 3, 4],\n",
       "       [5, 6, 7]])"
      ]
     },
     "execution_count": 70,
     "metadata": {},
     "output_type": "execute_result"
    }
   ],
   "source": [
    "arr1 = np.array([[1,2,3], [4,5,6]])\n",
    "arr2 = np.array([1,1,1])\n",
    "arr3 = arr1+arr2\n",
    "arr3 \n",
    "# array([[2, 3, 4],\n",
    "#        [5, 6, 7]])"
   ]
  },
  {
   "cell_type": "markdown",
   "metadata": {},
   "source": [
    "### Advanced Indexing - Memory andCopies"
   ]
  },
  {
   "cell_type": "code",
   "execution_count": 91,
   "metadata": {},
   "outputs": [
    {
     "data": {
      "text/plain": [
       "array([[199, 200, 201],\n",
       "       [  4,   5,   6]])"
      ]
     },
     "execution_count": 91,
     "metadata": {},
     "output_type": "execute_result"
    }
   ],
   "source": [
    "ary = np.array([[1,2,3], [4,5,6]])\n",
    "ary[0]+=99\n",
    "ary \n",
    "# array([[100, 101, 102],\n",
    "#        [  4,   5,   6]])\n",
    "\n",
    "ary[:1]+=99\n",
    "ary\n",
    "# array([[199, 200, 201],\n",
    "#        [  4,   5,   6]])"
   ]
  },
  {
   "cell_type": "markdown",
   "metadata": {},
   "source": [
    "### Copy array"
   ]
  },
  {
   "cell_type": "code",
   "execution_count": 95,
   "metadata": {},
   "outputs": [
    {
     "data": {
      "text/plain": [
       "(array([1, 2, 3]), array([100, 101, 102]))"
      ]
     },
     "execution_count": 95,
     "metadata": {},
     "output_type": "execute_result"
    }
   ],
   "source": [
    "ary = np.array([1,2,3])\n",
    "ary2 = ary.copy()\n",
    "ary2[:]+=99\n",
    "\n",
    "ary, ary2\n",
    "# (array([1, 2, 3]), array([100, 101, 102]))"
   ]
  },
  {
   "cell_type": "markdown",
   "metadata": {},
   "source": [
    "### Return copy array"
   ]
  },
  {
   "cell_type": "code",
   "execution_count": 101,
   "metadata": {},
   "outputs": [
    {
     "data": {
      "text/plain": [
       "(array([[4, 6],\n",
       "        [7, 9]]),\n",
       " array([[False, False, False],\n",
       "        [ True,  True,  True]]),\n",
       " array([4, 5, 6]),\n",
       " array([[1, 2, 3],\n",
       "        [4, 5, 6]]))"
      ]
     },
     "execution_count": 101,
     "metadata": {},
     "output_type": "execute_result"
    }
   ],
   "source": [
    "ary = np.array([[1,2,3], [4,5,6]])\n",
    "\n",
    "ary_copy = ary[:, [0,2]]\n",
    "more3_mask = ary>3\n",
    "\n",
    "ary_copy+=3\n",
    "\n",
    "ary_copy, more3_mask, ary[more3_mask], ary\n",
    "\n",
    "\n",
    "# (array([[4, 6],\n",
    "#         [7, 9]]),\n",
    "#  array([[False, False, False],\n",
    "#         [ True,  True,  True]]),\n",
    "#  array([4, 5, 6]),\n",
    "#  array([[1, 2, 3],\n",
    "#         [4, 5, 6]]))"
   ]
  },
  {
   "cell_type": "markdown",
   "metadata": {},
   "source": [
    "### Use boolean mask and chain logical criterias"
   ]
  },
  {
   "cell_type": "code",
   "execution_count": 105,
   "metadata": {},
   "outputs": [
    {
     "data": {
      "text/plain": [
       "array([4, 6])"
      ]
     },
     "execution_count": 105,
     "metadata": {},
     "output_type": "execute_result"
    }
   ],
   "source": [
    "ary = np.array([[1,2,3], [4,5,6]])\n",
    "more3_mask = ary>3\n",
    "ary[more3_mask]\n",
    "# array([4, 5, 6])\n",
    "\n",
    "ary[(ary>3) & (ary%2 == 0)]\n",
    "#array([4, 6])\n",
    "\n",
    "#It always returns copy of the array"
   ]
  },
  {
   "cell_type": "markdown",
   "metadata": {},
   "source": [
    "### Comparison operations and Mask"
   ]
  },
  {
   "cell_type": "code",
   "execution_count": 119,
   "metadata": {},
   "outputs": [
    {
     "data": {
      "text/plain": [
       "array([0, 0, 1, 1, 1])"
      ]
     },
     "execution_count": 119,
     "metadata": {},
     "output_type": "execute_result"
    }
   ],
   "source": [
    "ary = np.array([1,2,3,4,5])\n",
    "mask = ary>2\n",
    "mask #array([False, False,  True,  True,  True])\n",
    "ary[mask] #array([3, 4, 5])\n",
    "\n",
    "mask.sum() # 3, It counts how many elements in an array meet a certain condition\n",
    "\n",
    "# Return indexes of an array that meet a certain condition\n",
    "mask.nonzero() #(array([2, 3, 4]),)\n",
    "\n",
    "# Alternative approach\n",
    "np.where(ary>2) #(array([2, 3, 4]),)\n",
    "np.where(ary>2,1,0) # array([0, 0, 1, 1, 1]), If condition is True, return 1, otherwise return 0\n"
   ]
  },
  {
   "cell_type": "markdown",
   "metadata": {},
   "source": [
    "####  Logical operators\n",
    "##### A:& or np.bitwise_and\n",
    "##### Or:| or np.bitwise_or  \n",
    "##### Xor:^ or np.bitwise_xor \n",
    "##### Not:~ or np.bitwise_not"
   ]
  },
  {
   "cell_type": "code",
   "execution_count": 122,
   "metadata": {},
   "outputs": [
    {
     "data": {
      "text/plain": [
       "array([False,  True,  True, False, False])"
      ]
     },
     "execution_count": 122,
     "metadata": {},
     "output_type": "execute_result"
    }
   ],
   "source": [
    "ary = np.array([1,2,3,4,5])\n",
    "(ary>2) & (ary<5) # array([False, False,  True,  True, False])\n",
    "~((ary>3) | (ary<2)) # array([False,  True,  True, False, False])"
   ]
  },
  {
   "cell_type": "markdown",
   "metadata": {},
   "source": [
    "### Random Number Generators"
   ]
  },
  {
   "cell_type": "code",
   "execution_count": 28,
   "metadata": {},
   "outputs": [
    {
     "name": "stdout",
     "output_type": "stream",
     "text": [
      "[[-1.0856306   0.99734545]\n",
      " [ 0.2829785  -1.50629471]\n",
      " [-0.57860025  1.65143654]]\n",
      "[[-1.0856306   0.99734545]\n",
      " [ 0.2829785  -1.50629471]\n",
      " [-0.57860025  1.65143654]]\n",
      "[[-2.42667924 -0.42891263]\n",
      " [ 1.26593626 -0.8667404 ]\n",
      " [-0.67888615 -0.09470897]]\n"
     ]
    },
    {
     "data": {
      "text/plain": [
       "array([[ 1.49138963, -0.638902  ],\n",
       "       [-0.44398196, -0.43435128],\n",
       "       [ 2.20593008,  2.18678609]])"
      ]
     },
     "execution_count": 28,
     "metadata": {},
     "output_type": "execute_result"
    }
   ],
   "source": [
    "np.random.seed(123)# create random arrays (Задает начальное условие для генератора, для того чтобы создавались одинаковые случайные числа, при каждом запуске программы)\n",
    "rng = np.random.RandomState(seed=123) # аналог seed, реализован в виде классаб контейнер для генератора случайных чисел\n",
    "\n",
    "print(np.random.randn(3,2)) # array([0.54340494, 0.27836939, 0.42451759]), возврат 3 элементов массива из созданного распределения выше\n",
    "print(rng.randn(3,2))\n",
    "\n",
    "#Возвращает и отрицательные вещественные числа в том числе, в стандартном нормальном распределении\n",
    "np.random.randn(3)  # array([ 0.35467445, -0.78606433, -0.2318722 ])\n",
    "\n",
    "np.random.randn(3,2)  # Вернет многомерный массив вещественных чисел\n",
    "# array([[ 0.20797568,  0.93580797],\n",
    "#        [ 0.17957831, -0.5771615 ],\n",
    "#        [-0.53337271, -0.22540212]])\n",
    "rng.randn(3,2)"
   ]
  },
  {
   "cell_type": "code",
   "execution_count": 17,
   "metadata": {},
   "outputs": [
    {
     "data": {
      "image/png": "[encoded data removed]",
      "text/plain": [
       "<Figure size 432x288 with 1 Axes>"
      ]
     },
     "metadata": {
      "needs_background": "light"
     },
     "output_type": "display_data"
    }
   ],
   "source": [
    "import matplotlib.pyplot as plt\n",
    "\n",
    "np.random.seed(123)\n",
    "z_score = np.random.randn(100,2)\n",
    "\n",
    "z_score[:,0] # x\n",
    "z_score[:,1] # y\n",
    "plt.scatter(z_score[:,0], z_score[:,1])\n",
    "plt.show()\n",
    "\n"
   ]
  },
  {
   "cell_type": "code",
   "execution_count": 33,
   "metadata": {},
   "outputs": [
    {
     "data": {
      "image/png": "[encoded data removed]",
      "text/plain": [
       "<Figure size 432x288 with 1 Axes>"
      ]
     },
     "metadata": {
      "needs_background": "light"
     },
     "output_type": "display_data"
    }
   ],
   "source": [
    "# Non-standart random distribution \n",
    "import matplotlib.pyplot as plt\n",
    "\n",
    "np.random.seed(123)\n",
    "z_score = 2.* np.random.randn(100,2) + 5 # Смещение от стандартного распредения (-1,1) на (0,10)\n",
    "\n",
    "z_score[:,0] # x\n",
    "z_score[:,1] # y\n",
    "plt.scatter(z_score[:,0], z_score[:,1])\n",
    "plt.show()\n"
   ]
  },
  {
   "cell_type": "markdown",
   "metadata": {},
   "source": [
    "### Reshaiping arrays"
   ]
  },
  {
   "cell_type": "code",
   "execution_count": 39,
   "metadata": {},
   "outputs": [
    {
     "data": {
      "text/plain": [
       "(array([[1, 2, 3],\n",
       "        [4, 5, 3]]),\n",
       " True)"
      ]
     },
     "execution_count": 39,
     "metadata": {},
     "output_type": "execute_result"
    }
   ],
   "source": [
    "ary1d = np.array([1,2,3,4,5,3])\n",
    "ary2d_view  = ary1d.reshape(2,3)\n",
    "ary2d_view, np.may_share_memory(ary2d_view, ary1d)\n"
   ]
  },
  {
   "cell_type": "code",
   "execution_count": 46,
   "metadata": {},
   "outputs": [
    {
     "data": {
      "text/plain": [
       "array([1, 2, 3, 4, 5, 3])"
      ]
     },
     "execution_count": 46,
     "metadata": {},
     "output_type": "execute_result"
    }
   ],
   "source": [
    "ary1d = np.array([1,2,3,4,5,3])\n",
    "# Использование заполнителя -1, чтобы количество элементов расчиталось автоматически\n",
    "(\n",
    "ary1d.reshape(2,-1),\n",
    "ary1d.reshape(-1,2),\n",
    "ary1d.reshape(-1),\n",
    ")\n",
    "# (array([[1, 2, 3],\n",
    "#         [4, 5, 3]]),\n",
    "#  array([[1, 2],\n",
    "#         [3, 4],\n",
    "#         [5, 3]]),\n",
    "#  array([1, 2, 3, 4, 5, 3]))\n",
    "\n",
    "    "
   ]
  },
  {
   "cell_type": "markdown",
   "metadata": {},
   "source": [
    "### Flatten array"
   ]
  },
  {
   "cell_type": "code",
   "execution_count": 54,
   "metadata": {},
   "outputs": [
    {
     "data": {
      "text/plain": [
       "array([1, 2, 3, 4])"
      ]
     },
     "execution_count": 54,
     "metadata": {},
     "output_type": "execute_result"
    }
   ],
   "source": [
    "ary = np.array([[1,2],[3,4]])\n",
    "\n",
    "ary.ravel()\n",
    "ary.flatten() #it returns copy of the array"
   ]
  },
  {
   "cell_type": "markdown",
   "metadata": {},
   "source": [
    "### Concatinate(merging) arrays"
   ]
  },
  {
   "cell_type": "code",
   "execution_count": 74,
   "metadata": {},
   "outputs": [
    {
     "data": {
      "text/plain": [
       "array([[1, 2, 3],\n",
       "       [1, 2, 3]])"
      ]
     },
     "execution_count": 74,
     "metadata": {},
     "output_type": "execute_result"
    }
   ],
   "source": [
    "ary = np.array([1,2,3])\n",
    "np.concatenate((ary, ary))\n",
    "#array([1, 2, 3, 1, 2, 3])\n",
    "\n",
    "ary = np.array([[1,2,3]])\n",
    "np.concatenate((ary, ary), axis=0)\n",
    "# array([[1, 2, 3],\n",
    "#        [1, 2, 3]])\n"
   ]
  },
  {
   "cell_type": "markdown",
   "metadata": {},
   "source": []
  }
 ],
 "metadata": {
  "kernelspec": {
   "display_name": "Python 3",
   "language": "python",
   "name": "python3"
  },
  "language_info": {
   "codemirror_mode": {
    "name": "ipython",
    "version": 3
   },
   "file_extension": ".py",
   "mimetype": "text/x-python",
   "name": "python",
   "nbconvert_exporter": "python",
   "pygments_lexer": "ipython3",
   "version": "3.8.3"
  }
 },
 "nbformat": 4,
 "nbformat_minor": 4
}
